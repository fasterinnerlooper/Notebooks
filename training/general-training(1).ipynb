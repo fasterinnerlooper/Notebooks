{
 "cells": [
  {
   "cell_type": "code",
   "execution_count": 1,
   "metadata": {},
   "outputs": [
    {
     "name": "stdout",
     "output_type": "stream",
     "text": [
      "Requirement already satisfied: peft in c:\\users\\shafi\\source\\notebooks\\.venv\\lib\\site-packages (0.6.1)\n",
      "Requirement already satisfied: numpy>=1.17 in c:\\users\\shafi\\source\\notebooks\\.venv\\lib\\site-packages (from peft) (1.26.1)\n",
      "Requirement already satisfied: packaging>=20.0 in c:\\users\\shafi\\source\\notebooks\\.venv\\lib\\site-packages (from peft) (23.2)\n",
      "Requirement already satisfied: psutil in c:\\users\\shafi\\source\\notebooks\\.venv\\lib\\site-packages (from peft) (5.9.6)\n",
      "Requirement already satisfied: pyyaml in c:\\users\\shafi\\source\\notebooks\\.venv\\lib\\site-packages (from peft) (6.0.1)\n",
      "Requirement already satisfied: torch>=1.13.0 in c:\\users\\shafi\\source\\notebooks\\.venv\\lib\\site-packages (from peft) (2.1.0)\n",
      "Requirement already satisfied: transformers in c:\\users\\shafi\\source\\notebooks\\.venv\\lib\\site-packages (from peft) (4.36.0.dev0)\n",
      "Requirement already satisfied: tqdm in c:\\users\\shafi\\source\\notebooks\\.venv\\lib\\site-packages (from peft) (4.66.1)\n",
      "Requirement already satisfied: accelerate>=0.21.0 in c:\\users\\shafi\\source\\notebooks\\.venv\\lib\\site-packages (from peft) (0.24.1)\n",
      "Requirement already satisfied: safetensors in c:\\users\\shafi\\source\\notebooks\\.venv\\lib\\site-packages (from peft) (0.4.0)\n",
      "Requirement already satisfied: huggingface-hub in c:\\users\\shafi\\source\\notebooks\\.venv\\lib\\site-packages (from accelerate>=0.21.0->peft) (0.17.3)\n",
      "Requirement already satisfied: filelock in c:\\users\\shafi\\source\\notebooks\\.venv\\lib\\site-packages (from torch>=1.13.0->peft) (3.13.1)\n",
      "Requirement already satisfied: typing-extensions in c:\\users\\shafi\\source\\notebooks\\.venv\\lib\\site-packages (from torch>=1.13.0->peft) (4.8.0)\n",
      "Requirement already satisfied: sympy in c:\\users\\shafi\\source\\notebooks\\.venv\\lib\\site-packages (from torch>=1.13.0->peft) (1.12)\n",
      "Requirement already satisfied: networkx in c:\\users\\shafi\\source\\notebooks\\.venv\\lib\\site-packages (from torch>=1.13.0->peft) (3.2.1)\n",
      "Requirement already satisfied: jinja2 in c:\\users\\shafi\\source\\notebooks\\.venv\\lib\\site-packages (from torch>=1.13.0->peft) (3.1.2)\n",
      "Requirement already satisfied: fsspec in c:\\users\\shafi\\source\\notebooks\\.venv\\lib\\site-packages (from torch>=1.13.0->peft) (2023.10.0)\n",
      "Requirement already satisfied: colorama in c:\\users\\shafi\\source\\notebooks\\.venv\\lib\\site-packages (from tqdm->peft) (0.4.6)\n",
      "Requirement already satisfied: regex!=2019.12.17 in c:\\users\\shafi\\source\\notebooks\\.venv\\lib\\site-packages (from transformers->peft) (2023.10.3)\n",
      "Requirement already satisfied: requests in c:\\users\\shafi\\source\\notebooks\\.venv\\lib\\site-packages (from transformers->peft) (2.31.0)\n",
      "Requirement already satisfied: tokenizers<0.15,>=0.14 in c:\\users\\shafi\\source\\notebooks\\.venv\\lib\\site-packages (from transformers->peft) (0.14.1)\n",
      "Requirement already satisfied: MarkupSafe>=2.0 in c:\\users\\shafi\\source\\notebooks\\.venv\\lib\\site-packages (from jinja2->torch>=1.13.0->peft) (2.1.3)\n",
      "Requirement already satisfied: charset-normalizer<4,>=2 in c:\\users\\shafi\\source\\notebooks\\.venv\\lib\\site-packages (from requests->transformers->peft) (3.3.2)\n",
      "Requirement already satisfied: idna<4,>=2.5 in c:\\users\\shafi\\source\\notebooks\\.venv\\lib\\site-packages (from requests->transformers->peft) (3.4)\n",
      "Requirement already satisfied: urllib3<3,>=1.21.1 in c:\\users\\shafi\\source\\notebooks\\.venv\\lib\\site-packages (from requests->transformers->peft) (2.0.7)\n",
      "Requirement already satisfied: certifi>=2017.4.17 in c:\\users\\shafi\\source\\notebooks\\.venv\\lib\\site-packages (from requests->transformers->peft) (2023.7.22)\n",
      "Requirement already satisfied: mpmath>=0.19 in c:\\users\\shafi\\source\\notebooks\\.venv\\lib\\site-packages (from sympy->torch>=1.13.0->peft) (1.3.0)\n",
      "Note: you may need to restart the kernel to use updated packages.\n"
     ]
    }
   ],
   "source": [
    "%pip install peft"
   ]
  },
  {
   "cell_type": "code",
   "execution_count": 2,
   "metadata": {},
   "outputs": [
    {
     "name": "stderr",
     "output_type": "stream",
     "text": [
      "c:\\Users\\shafi\\source\\Notebooks\\.venv\\Lib\\site-packages\\bitsandbytes\\cextension.py:34: UserWarning: The installed version of bitsandbytes was compiled without GPU support. 8-bit optimizers, 8-bit multiplication, and GPU quantization are unavailable.\n",
      "  warn(\"The installed version of bitsandbytes was compiled without GPU support. \"\n"
     ]
    },
    {
     "name": "stdout",
     "output_type": "stream",
     "text": [
      "'NoneType' object has no attribute 'cadam32bit_grad_fp32'\n"
     ]
    }
   ],
   "source": [
    "from transformers import AutoModelForCausalLM, AutoTokenizer\n",
    "\n",
    "peft_model_id = \"ybelkada/opt-350m-lora\"\n",
    "model = AutoModelForCausalLM.from_pretrained(peft_model_id)"
   ]
  },
  {
   "cell_type": "code",
   "execution_count": 3,
   "metadata": {},
   "outputs": [
    {
     "ename": "",
     "evalue": "",
     "output_type": "error",
     "traceback": [
      "\u001b[1;31mThe Kernel crashed while executing code in the the current cell or a previous cell. Please review the code in the cell(s) to identify a possible cause of the failure. Click <a href='https://aka.ms/vscodeJupyterKernelCrash'>here</a> for more info. View Jupyter <a href='command:jupyter.viewOutput'>log</a> for further details."
     ]
    }
   ],
   "source": [
    "from transformers import AutoModelForCausalLM, AutoTokenizer\n",
    "from peft import PeftConfig\n",
    "\n",
    "# model_id = \"facebook/opt-350m\"\n",
    "# adapter_model_id = \"ybelkada/opt-350m-lora\"\n",
    "# adapter_model_id = \"hihellooo2024/opt-350m-lora-1024\"\n",
    "# adapter_model_id = \"renyulin/finetune_fp4_opt_bnb_peft_opt-350m-lora\"\n",
    "model_id = \"codellama/CodeLlama-13b-Instruct-hf\"\n",
    "adapter_model_id = \"smangrul/codellama-13b-personal-copilot-peft\"\n",
    "tokenizer = AutoTokenizer.from_pretrained(model_id)\n",
    "text = \"Hello\"\n",
    "inputs = tokenizer(text, return_tensors=\"pt\")\n",
    "\n",
    "model = AutoModelForCausalLM.from_pretrained(model_id)\n",
    "peft_config = PeftConfig.from_pretrained(adapter_model_id)\n",
    "\n",
    "# to initiate with random weights\n",
    "peft_config.init_lora_weights = False\n",
    "\n",
    "model.add_adapter(peft_config)\n",
    "model.enable_adapters()\n",
    "output = model.generate(**inputs)\n",
    "tokenizer.decode(output[0])"
   ]
  },
  {
   "cell_type": "code",
   "execution_count": null,
   "metadata": {},
   "outputs": [
    {
     "data": {
      "text/plain": [
       "\"</s>Hello, I'm a newbie to this sub. I'm looking for a good place to\""
      ]
     },
     "execution_count": 14,
     "metadata": {},
     "output_type": "execute_result"
    }
   ],
   "source": [
    "model.disable_adapters()\n",
    "output = model.generate(**inputs)\n",
    "tokenizer.decode(output[0])"
   ]
  }
 ],
 "metadata": {
  "kernelspec": {
   "display_name": ".venv",
   "language": "python",
   "name": "python3"
  },
  "language_info": {
   "codemirror_mode": {
    "name": "ipython",
    "version": 3
   },
   "file_extension": ".py",
   "mimetype": "text/x-python",
   "name": "python",
   "nbconvert_exporter": "python",
   "pygments_lexer": "ipython3",
   "version": "3.11.6"
  }
 },
 "nbformat": 4,
 "nbformat_minor": 2
}
