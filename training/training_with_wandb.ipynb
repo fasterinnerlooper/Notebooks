{
  "nbformat": 4,
  "nbformat_minor": 0,
  "metadata": {
    "colab": {
      "provenance": [],
      "gpuType": "T4",
      "authorship_tag": "ABX9TyPqa1KvHnxEj+kyIbnaZIaV",
      "include_colab_link": true
    },
    "kernelspec": {
      "name": "python3",
      "display_name": "Python 3"
    },
    "language_info": {
      "name": "python"
    },
    "accelerator": "GPU"
  },
  "cells": [
    {
      "cell_type": "markdown",
      "metadata": {
        "id": "view-in-github",
        "colab_type": "text"
      },
      "source": [
        "<a href=\"https://colab.research.google.com/github/fasterinnerlooper/Notebooks/blob/main/training/training_with_wandb.ipynb\" target=\"_parent\"><img src=\"https://colab.research.google.com/assets/colab-badge.svg\" alt=\"Open In Colab\"/></a>"
      ]
    },
    {
      "cell_type": "code",
      "source": [
        "%pip install wandb\n",
        "wandb login"
      ],
      "metadata": {
        "id": "UaSHcY5gdHf5"
      },
      "execution_count": null,
      "outputs": []
    },
    {
      "cell_type": "code",
      "source": [
        "%pip install numpy transformers datasets"
      ],
      "metadata": {
        "id": "vpkCOaz0c61h"
      },
      "execution_count": null,
      "outputs": []
    },
    {
      "cell_type": "code",
      "execution_count": null,
      "metadata": {
        "id": "nj5f961Ec0QX"
      },
      "outputs": [],
      "source": [
        "# This script needs these libraries to be installed:\n",
        "#   numpy, transformers, datasets\n",
        "\n",
        "import wandb\n",
        "\n",
        "import os\n",
        "import numpy as np\n",
        "from datasets import load_dataset\n",
        "from transformers import TrainingArguments, Trainer\n",
        "from transformers import AutoTokenizer, AutoModelForSequenceClassification\n",
        "\n",
        "\n",
        "def tokenize_function(examples):\n",
        "    return tokenizer(examples[\"text\"], padding=\"max_length\", truncation=True)\n",
        "\n",
        "def compute_metrics(eval_pred):\n",
        "    logits, labels = eval_pred\n",
        "    predictions = np.argmax(logits, axis=-1)\n",
        "    return {\"accuracy\": np.mean(predictions == labels)}\n",
        "\n",
        "\n",
        "# download prepare the data\n",
        "dataset = load_dataset(\"yelp_review_full\")\n",
        "tokenizer = AutoTokenizer.from_pretrained(\"distilbert-base-uncased\")\n",
        "\n",
        "small_train_dataset = dataset[\"train\"].shuffle(seed=42).select(range(1000))\n",
        "small_eval_dataset = dataset[\"test\"].shuffle(seed=42).select(range(300))\n",
        "\n",
        "small_train_dataset = small_train_dataset.map(tokenize_function, batched=True)\n",
        "small_eval_dataset = small_train_dataset.map(tokenize_function, batched=True)\n",
        "\n",
        "# download the model\n",
        "model = AutoModelForSequenceClassification.from_pretrained(\"distilbert-base-uncased\", num_labels=5)\n",
        "\n",
        "# set the wandb project where this run will be logged\n",
        "os.environ[\"WANDB_PROJECT\"]=\"training-with-wandb\"\n",
        "\n",
        "# save your trained model checkpoint to wandb\n",
        "os.environ[\"WANDB_LOG_MODEL\"]=\"true\"\n",
        "\n",
        "# turn off watch to log faster\n",
        "os.environ[\"WANDB_WATCH\"]=\"false\"\n",
        "\n",
        "# pass \"wandb\" to the 'report_to' parameter to turn on wandb logging\n",
        "training_args = TrainingArguments(\n",
        "    output_dir='models',\n",
        "    report_to=\"wandb\",\n",
        "    logging_steps=5,\n",
        "    per_device_train_batch_size=32,\n",
        "    per_device_eval_batch_size=32,\n",
        "    evaluation_strategy=\"steps\",\n",
        "    eval_steps=20,\n",
        "    max_steps = 100,\n",
        "    save_steps = 100\n",
        ")\n",
        "\n",
        "# define the trainer and start training\n",
        "trainer = Trainer(\n",
        "    model=model,\n",
        "    args=training_args,\n",
        "    train_dataset=small_train_dataset,\n",
        "    eval_dataset=small_eval_dataset,\n",
        "    compute_metrics=compute_metrics,\n",
        ")\n",
        "trainer.train()\n",
        "\n",
        "# [optional] finish the wandb run, necessary in notebooks\n",
        "wandb.finish()"
      ]
    }
  ]
}