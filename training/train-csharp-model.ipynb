{
 "cells": [
  {
   "cell_type": "code",
   "execution_count": 24,
   "metadata": {},
   "outputs": [
    {
     "name": "stdout",
     "output_type": "stream",
     "text": [
      "Requirement already satisfied: datasets in c:\\users\\shafi\\source\\notebooks\\.venv\\lib\\site-packages (2.14.6)\n",
      "Requirement already satisfied: numpy>=1.17 in c:\\users\\shafi\\source\\notebooks\\.venv\\lib\\site-packages (from datasets) (1.26.1)\n",
      "Requirement already satisfied: pyarrow>=8.0.0 in c:\\users\\shafi\\source\\notebooks\\.venv\\lib\\site-packages (from datasets) (14.0.0)\n",
      "Requirement already satisfied: dill<0.3.8,>=0.3.0 in c:\\users\\shafi\\source\\notebooks\\.venv\\lib\\site-packages (from datasets) (0.3.7)\n",
      "Requirement already satisfied: pandas in c:\\users\\shafi\\source\\notebooks\\.venv\\lib\\site-packages (from datasets) (2.1.2)\n",
      "Requirement already satisfied: requests>=2.19.0 in c:\\users\\shafi\\source\\notebooks\\.venv\\lib\\site-packages (from datasets) (2.31.0)\n",
      "Requirement already satisfied: tqdm>=4.62.1 in c:\\users\\shafi\\source\\notebooks\\.venv\\lib\\site-packages (from datasets) (4.66.1)\n",
      "Requirement already satisfied: xxhash in c:\\users\\shafi\\source\\notebooks\\.venv\\lib\\site-packages (from datasets) (3.4.1)\n",
      "Requirement already satisfied: multiprocess in c:\\users\\shafi\\source\\notebooks\\.venv\\lib\\site-packages (from datasets) (0.70.15)\n",
      "Requirement already satisfied: fsspec<=2023.10.0,>=2023.1.0 in c:\\users\\shafi\\source\\notebooks\\.venv\\lib\\site-packages (from fsspec[http]<=2023.10.0,>=2023.1.0->datasets) (2023.10.0)\n",
      "Requirement already satisfied: aiohttp in c:\\users\\shafi\\source\\notebooks\\.venv\\lib\\site-packages (from datasets) (3.8.6)\n",
      "Requirement already satisfied: huggingface-hub<1.0.0,>=0.14.0 in c:\\users\\shafi\\source\\notebooks\\.venv\\lib\\site-packages (from datasets) (0.17.3)\n",
      "Requirement already satisfied: packaging in c:\\users\\shafi\\source\\notebooks\\.venv\\lib\\site-packages (from datasets) (23.2)\n",
      "Requirement already satisfied: pyyaml>=5.1 in c:\\users\\shafi\\source\\notebooks\\.venv\\lib\\site-packages (from datasets) (6.0.1)\n",
      "Requirement already satisfied: attrs>=17.3.0 in c:\\users\\shafi\\source\\notebooks\\.venv\\lib\\site-packages (from aiohttp->datasets) (23.1.0)\n",
      "Requirement already satisfied: charset-normalizer<4.0,>=2.0 in c:\\users\\shafi\\source\\notebooks\\.venv\\lib\\site-packages (from aiohttp->datasets) (3.3.2)\n",
      "Requirement already satisfied: multidict<7.0,>=4.5 in c:\\users\\shafi\\source\\notebooks\\.venv\\lib\\site-packages (from aiohttp->datasets) (6.0.4)\n",
      "Requirement already satisfied: async-timeout<5.0,>=4.0.0a3 in c:\\users\\shafi\\source\\notebooks\\.venv\\lib\\site-packages (from aiohttp->datasets) (4.0.3)\n",
      "Requirement already satisfied: yarl<2.0,>=1.0 in c:\\users\\shafi\\source\\notebooks\\.venv\\lib\\site-packages (from aiohttp->datasets) (1.9.2)\n",
      "Requirement already satisfied: frozenlist>=1.1.1 in c:\\users\\shafi\\source\\notebooks\\.venv\\lib\\site-packages (from aiohttp->datasets) (1.4.0)\n",
      "Requirement already satisfied: aiosignal>=1.1.2 in c:\\users\\shafi\\source\\notebooks\\.venv\\lib\\site-packages (from aiohttp->datasets) (1.3.1)\n",
      "Requirement already satisfied: filelock in c:\\users\\shafi\\source\\notebooks\\.venv\\lib\\site-packages (from huggingface-hub<1.0.0,>=0.14.0->datasets) (3.13.1)\n",
      "Requirement already satisfied: typing-extensions>=3.7.4.3 in c:\\users\\shafi\\source\\notebooks\\.venv\\lib\\site-packages (from huggingface-hub<1.0.0,>=0.14.0->datasets) (4.8.0)\n",
      "Requirement already satisfied: idna<4,>=2.5 in c:\\users\\shafi\\source\\notebooks\\.venv\\lib\\site-packages (from requests>=2.19.0->datasets) (3.4)\n",
      "Requirement already satisfied: urllib3<3,>=1.21.1 in c:\\users\\shafi\\source\\notebooks\\.venv\\lib\\site-packages (from requests>=2.19.0->datasets) (2.0.7)\n",
      "Requirement already satisfied: certifi>=2017.4.17 in c:\\users\\shafi\\source\\notebooks\\.venv\\lib\\site-packages (from requests>=2.19.0->datasets) (2023.7.22)\n",
      "Requirement already satisfied: colorama in c:\\users\\shafi\\source\\notebooks\\.venv\\lib\\site-packages (from tqdm>=4.62.1->datasets) (0.4.6)\n",
      "Requirement already satisfied: python-dateutil>=2.8.2 in c:\\users\\shafi\\source\\notebooks\\.venv\\lib\\site-packages (from pandas->datasets) (2.8.2)\n",
      "Requirement already satisfied: pytz>=2020.1 in c:\\users\\shafi\\source\\notebooks\\.venv\\lib\\site-packages (from pandas->datasets) (2023.3.post1)\n",
      "Requirement already satisfied: tzdata>=2022.1 in c:\\users\\shafi\\source\\notebooks\\.venv\\lib\\site-packages (from pandas->datasets) (2023.3)\n",
      "Requirement already satisfied: six>=1.5 in c:\\users\\shafi\\source\\notebooks\\.venv\\lib\\site-packages (from python-dateutil>=2.8.2->pandas->datasets) (1.16.0)\n",
      "Note: you may need to restart the kernel to use updated packages.\n"
     ]
    }
   ],
   "source": [
    "%pip install datasets"
   ]
  },
  {
   "cell_type": "code",
   "execution_count": 25,
   "metadata": {},
   "outputs": [
    {
     "name": "stderr",
     "output_type": "stream",
     "text": [
      "c:\\Users\\shafi\\source\\Notebooks\\.venv\\Lib\\site-packages\\datasets\\table.py:1421: FutureWarning: promote has been superseded by mode='default'.\n",
      "  table = cls._concat_blocks(blocks, axis=0)\n"
     ]
    }
   ],
   "source": [
    "from datasets import load_dataset\n",
    "\n",
    "dataset = load_dataset(\"microsoft/LCC_csharp\", split=\"train\")"
   ]
  },
  {
   "cell_type": "code",
   "execution_count": 26,
   "metadata": {},
   "outputs": [
    {
     "name": "stdout",
     "output_type": "stream",
     "text": [
      "Requirement already satisfied: transformers in c:\\users\\shafi\\source\\notebooks\\.venv\\lib\\site-packages (4.35.0)\n",
      "Requirement already satisfied: filelock in c:\\users\\shafi\\source\\notebooks\\.venv\\lib\\site-packages (from transformers) (3.13.1)\n",
      "Requirement already satisfied: huggingface-hub<1.0,>=0.16.4 in c:\\users\\shafi\\source\\notebooks\\.venv\\lib\\site-packages (from transformers) (0.17.3)\n",
      "Requirement already satisfied: numpy>=1.17 in c:\\users\\shafi\\source\\notebooks\\.venv\\lib\\site-packages (from transformers) (1.26.1)\n",
      "Requirement already satisfied: packaging>=20.0 in c:\\users\\shafi\\source\\notebooks\\.venv\\lib\\site-packages (from transformers) (23.2)\n",
      "Requirement already satisfied: pyyaml>=5.1 in c:\\users\\shafi\\source\\notebooks\\.venv\\lib\\site-packages (from transformers) (6.0.1)\n",
      "Requirement already satisfied: regex!=2019.12.17 in c:\\users\\shafi\\source\\notebooks\\.venv\\lib\\site-packages (from transformers) (2023.10.3)\n",
      "Requirement already satisfied: requests in c:\\users\\shafi\\source\\notebooks\\.venv\\lib\\site-packages (from transformers) (2.31.0)\n",
      "Requirement already satisfied: tokenizers<0.15,>=0.14 in c:\\users\\shafi\\source\\notebooks\\.venv\\lib\\site-packages (from transformers) (0.14.1)\n",
      "Requirement already satisfied: safetensors>=0.3.1 in c:\\users\\shafi\\source\\notebooks\\.venv\\lib\\site-packages (from transformers) (0.4.0)\n",
      "Requirement already satisfied: tqdm>=4.27 in c:\\users\\shafi\\source\\notebooks\\.venv\\lib\\site-packages (from transformers) (4.66.1)\n",
      "Requirement already satisfied: fsspec in c:\\users\\shafi\\source\\notebooks\\.venv\\lib\\site-packages (from huggingface-hub<1.0,>=0.16.4->transformers) (2023.10.0)\n",
      "Requirement already satisfied: typing-extensions>=3.7.4.3 in c:\\users\\shafi\\source\\notebooks\\.venv\\lib\\site-packages (from huggingface-hub<1.0,>=0.16.4->transformers) (4.8.0)\n",
      "Requirement already satisfied: colorama in c:\\users\\shafi\\source\\notebooks\\.venv\\lib\\site-packages (from tqdm>=4.27->transformers) (0.4.6)\n",
      "Requirement already satisfied: charset-normalizer<4,>=2 in c:\\users\\shafi\\source\\notebooks\\.venv\\lib\\site-packages (from requests->transformers) (3.3.2)\n",
      "Requirement already satisfied: idna<4,>=2.5 in c:\\users\\shafi\\source\\notebooks\\.venv\\lib\\site-packages (from requests->transformers) (3.4)\n",
      "Requirement already satisfied: urllib3<3,>=1.21.1 in c:\\users\\shafi\\source\\notebooks\\.venv\\lib\\site-packages (from requests->transformers) (2.0.7)\n",
      "Requirement already satisfied: certifi>=2017.4.17 in c:\\users\\shafi\\source\\notebooks\\.venv\\lib\\site-packages (from requests->transformers) (2023.7.22)\n",
      "Note: you may need to restart the kernel to use updated packages.\n"
     ]
    }
   ],
   "source": [
    "%pip install transformers"
   ]
  },
  {
   "cell_type": "code",
   "execution_count": 27,
   "metadata": {},
   "outputs": [],
   "source": [
    "from pathlib import Path\n",
    "from transformers import AutoTokenizer\n",
    "\n",
    "# Initialize a tokenize\n",
    "tokenizer = AutoTokenizer.from_pretrained(\"microsoft/codebert-base\")"
   ]
  },
  {
   "cell_type": "code",
   "execution_count": 28,
   "metadata": {},
   "outputs": [],
   "source": [
    "code_sample = \"\"\"\n",
    "using System;\n",
    "namespace LogicalPrograms\n",
    "{\n",
    "    public class Program\n",
    "    {\n",
    "        static void Main(string[] args)\n",
    "        {\n",
    "            Console.Write(\"Please enter the Length of the Fibonacci Series : \");\n",
    "            int number = int.Parse(Console.ReadLine());\n",
    "            FibonacciSeries(0, 1, 1, number);\n",
    "\n",
    "            Console.ReadKey();\n",
    "        }\n",
    "\n",
    "        public static void FibonacciSeries(int firstNumber, int secondNumber, int counter, int number)\n",
    "        {\n",
    "            Console.Write(firstNumber + \" \");\n",
    "            if (counter < number)\n",
    "            {\n",
    "                FibonacciSeries(secondNumber, firstNumber + secondNumber, counter + 1, number);\n",
    "            }\n",
    "        }\n",
    "    }\n",
    "}\"\"\""
   ]
  },
  {
   "cell_type": "code",
   "execution_count": 30,
   "metadata": {},
   "outputs": [
    {
     "name": "stdout",
     "output_type": "stream",
     "text": [
      "[0, 50118, 10928, 5149, 131, 50118, 37815, 18851, 9359, 3569, 44426, 29, 50118, 45152, 50118, 1437, 1437, 1437, 285, 1380, 4928, 50118, 1437, 1437, 1437, 25522, 50118, 1437, 1437, 1437, 1437, 1437, 1437, 1437, 25156, 13842, 4326, 1640, 20951, 48992, 49503, 43, 50118, 1437, 1437, 1437, 1437, 1437, 1437, 1437, 25522, 50118, 1437, 1437, 1437, 1437, 1437, 1437, 1437, 1437, 1437, 1437, 1437, 44293, 4, 45714, 46469, 6715, 2914, 5, 41852, 9, 5, 28174, 261, 29522, 3265, 4832, 22, 4397, 50118, 1437, 1437, 1437, 1437, 1437, 1437, 1437, 1437, 1437, 1437, 1437, 6979, 346, 5457, 6979, 4, 22011, 1090, 1640, 49290, 4, 25439, 18997, 49291, 50118, 1437, 1437, 1437, 1437, 1437, 1437, 1437, 1437, 1437, 1437, 1437, 28174, 261, 29522, 25166, 1640, 288, 6, 112, 6, 112, 6, 346, 4397, 50140, 1437, 1437, 1437, 1437, 1437, 1437, 1437, 1437, 1437, 1437, 1437, 44293, 4, 25439, 28152, 47006, 50118, 1437, 1437, 1437, 1437, 1437, 1437, 1437, 35524, 50140, 1437, 1437, 1437, 1437, 1437, 1437, 1437, 285, 25156, 13842, 28174, 261, 29522, 25166, 1640, 2544, 78, 43623, 6, 6979, 200, 43623, 6, 6979, 3231, 6, 6979, 346, 43, 50118, 1437, 1437, 1437, 1437, 1437, 1437, 1437, 25522, 50118, 1437, 1437, 1437, 1437, 1437, 1437, 1437, 1437, 1437, 1437, 1437, 44293, 4, 45714, 1640, 9502, 43623, 2055, 22, 22, 4397, 50118, 1437, 1437, 1437, 1437, 1437, 1437, 1437, 1437, 1437, 1437, 1437, 114, 36, 24774, 28696, 346, 43, 50118, 1437, 1437, 1437, 1437, 1437, 1437, 1437, 1437, 1437, 1437, 1437, 25522, 50118, 1437, 1437, 1437, 1437, 1437, 1437, 1437, 1437, 1437, 1437, 1437, 1437, 1437, 1437, 1437, 28174, 261, 29522, 25166, 1640, 10815, 43623, 6, 78, 43623, 2055, 200, 43623, 6, 3231, 2055, 112, 6, 346, 4397, 50118, 1437, 1437, 1437, 1437, 1437, 1437, 1437, 1437, 1437, 1437, 1437, 35524, 50118, 1437, 1437, 1437, 1437, 1437, 1437, 1437, 35524, 50118, 1437, 1437, 1437, 35524, 50118, 24303, 2]\n"
     ]
    }
   ],
   "source": [
    "encoding = tokenizer.encode(code_sample)\n",
    "print(encoding)\n",
    "# print(encoding.tokens)"
   ]
  },
  {
   "cell_type": "code",
   "execution_count": 32,
   "metadata": {},
   "outputs": [
    {
     "name": "stderr",
     "output_type": "stream",
     "text": [
      "Map:   0%|          | 0/100000 [00:00<?, ? examples/s]Token indices sequence length is longer than the specified maximum sequence length for this model (2184 > 512). Running this sequence through the model will result in indexing errors\n",
      "Map: 100%|██████████| 100000/100000 [31:35<00:00, 52.76 examples/s] \n"
     ]
    }
   ],
   "source": [
    "def tokenization(example):\n",
    "    return tokenizer(example[\"context\"])\n",
    "\n",
    "\n",
    "dataset = dataset.map(tokenization, batched=True)"
   ]
  },
  {
   "cell_type": "code",
   "execution_count": 33,
   "metadata": {},
   "outputs": [
    {
     "data": {
      "text/plain": [
       "('.\\\\tokenizer_config.json',\n",
       " '.\\\\special_tokens_map.json',\n",
       " '.\\\\vocab.json',\n",
       " '.\\\\merges.txt',\n",
       " '.\\\\added_tokens.json',\n",
       " '.\\\\tokenizer.json')"
      ]
     },
     "execution_count": 33,
     "metadata": {},
     "output_type": "execute_result"
    }
   ],
   "source": [
    "# Save files to disk\n",
    "tokenizer.save_pretrained(\".\")"
   ]
  },
  {
   "cell_type": "code",
   "execution_count": 34,
   "metadata": {},
   "outputs": [
    {
     "data": {
      "text/plain": [
       "('.\\\\vocab.json', '.\\\\merges.txt')"
      ]
     },
     "execution_count": 34,
     "metadata": {},
     "output_type": "execute_result"
    }
   ],
   "source": [
    "tokenizer.save_vocabulary(\".\")"
   ]
  },
  {
   "cell_type": "code",
   "execution_count": 35,
   "metadata": {},
   "outputs": [
    {
     "name": "stdout",
     "output_type": "stream",
     "text": [
      "Encoding(num_tokens=314, attributes=[ids, type_ids, tokens, offsets, attention_mask, special_tokens_mask, overflowing])\n",
      "['<s>', 'Ċ', 'using', 'ĠSystem', ';', 'Ċ', 'names', 'pace', 'ĠLog', 'ical', 'Program', 's', 'Ċ', '{', 'Ċ', 'Ġ', 'Ġ', 'Ġ', 'Ġpublic', 'Ġclass', 'ĠProgram', 'Ċ', 'Ġ', 'Ġ', 'Ġ', 'Ġ{', 'Ċ', 'Ġ', 'Ġ', 'Ġ', 'Ġ', 'Ġ', 'Ġ', 'Ġ', 'Ġstatic', 'Ġvoid', 'ĠMain', '(', 'string', '[]', 'Ġargs', ')', 'Ċ', 'Ġ', 'Ġ', 'Ġ', 'Ġ', 'Ġ', 'Ġ', 'Ġ', 'Ġ{', 'Ċ', 'Ġ', 'Ġ', 'Ġ', 'Ġ', 'Ġ', 'Ġ', 'Ġ', 'Ġ', 'Ġ', 'Ġ', 'Ġ', 'ĠConsole', '.', 'Write', '(\"', 'Please', 'Ġenter', 'Ġthe', 'ĠLength', 'Ġof', 'Ġthe', 'ĠFib', 'on', 'acci', 'ĠSeries', 'Ġ:', 'Ġ\"', ');', 'Ċ', 'Ġ', 'Ġ', 'Ġ', 'Ġ', 'Ġ', 'Ġ', 'Ġ', 'Ġ', 'Ġ', 'Ġ', 'Ġ', 'Ġint', 'Ġnumber', 'Ġ=', 'Ġint', '.', 'Par', 'se', '(', 'Console', '.', 'Read', 'Line', '());', 'Ċ', 'Ġ', 'Ġ', 'Ġ', 'Ġ', 'Ġ', 'Ġ', 'Ġ', 'Ġ', 'Ġ', 'Ġ', 'Ġ', 'ĠFib', 'on', 'acci', 'Series', '(', '0', ',', 'Ġ1', ',', 'Ġ1', ',', 'Ġnumber', ');', 'ĊĊ', 'Ġ', 'Ġ', 'Ġ', 'Ġ', 'Ġ', 'Ġ', 'Ġ', 'Ġ', 'Ġ', 'Ġ', 'Ġ', 'ĠConsole', '.', 'Read', 'Key', '();', 'Ċ', 'Ġ', 'Ġ', 'Ġ', 'Ġ', 'Ġ', 'Ġ', 'Ġ', 'Ġ}', 'ĊĊ', 'Ġ', 'Ġ', 'Ġ', 'Ġ', 'Ġ', 'Ġ', 'Ġ', 'Ġpublic', 'Ġstatic', 'Ġvoid', 'ĠFib', 'on', 'acci', 'Series', '(', 'int', 'Ġfirst', 'Number', ',', 'Ġint', 'Ġsecond', 'Number', ',', 'Ġint', 'Ġcounter', ',', 'Ġint', 'Ġnumber', ')', 'Ċ', 'Ġ', 'Ġ', 'Ġ', 'Ġ', 'Ġ', 'Ġ', 'Ġ', 'Ġ{', 'Ċ', 'Ġ', 'Ġ', 'Ġ', 'Ġ', 'Ġ', 'Ġ', 'Ġ', 'Ġ', 'Ġ', 'Ġ', 'Ġ', 'ĠConsole', '.', 'Write', '(', 'first', 'Number', 'Ġ+', 'Ġ\"', 'Ġ\"', ');', 'Ċ', 'Ġ', 'Ġ', 'Ġ', 'Ġ', 'Ġ', 'Ġ', 'Ġ', 'Ġ', 'Ġ', 'Ġ', 'Ġ', 'Ġif', 'Ġ(', 'counter', 'Ġ<', 'Ġnumber', ')', 'Ċ', 'Ġ', 'Ġ', 'Ġ', 'Ġ', 'Ġ', 'Ġ', 'Ġ', 'Ġ', 'Ġ', 'Ġ', 'Ġ', 'Ġ{', 'Ċ', 'Ġ', 'Ġ', 'Ġ', 'Ġ', 'Ġ', 'Ġ', 'Ġ', 'Ġ', 'Ġ', 'Ġ', 'Ġ', 'Ġ', 'Ġ', 'Ġ', 'Ġ', 'ĠFib', 'on', 'acci', 'Series', '(', 'second', 'Number', ',', 'Ġfirst', 'Number', 'Ġ+', 'Ġsecond', 'Number', ',', 'Ġcounter', 'Ġ+', 'Ġ1', ',', 'Ġnumber', ');', 'Ċ', 'Ġ', 'Ġ', 'Ġ', 'Ġ', 'Ġ', 'Ġ', 'Ġ', 'Ġ', 'Ġ', 'Ġ', 'Ġ', 'Ġ}', 'Ċ', 'Ġ', 'Ġ', 'Ġ', 'Ġ', 'Ġ', 'Ġ', 'Ġ', 'Ġ}', 'Ċ', 'Ġ', 'Ġ', 'Ġ', 'Ġ}', 'Ċ', '}', '</s>']\n"
     ]
    }
   ],
   "source": [
    "from tokenizers.implementations import ByteLevelBPETokenizer\n",
    "from tokenizers.processors import BertProcessing\n",
    "\n",
    "\n",
    "tokenizer = ByteLevelBPETokenizer(\"./vocab.json\", \"./merges.txt\")\n",
    "tokenizer._tokenizer.post_processor = BertProcessing(\n",
    "    (\"</s>\", tokenizer.token_to_id(\"</s>\")),\n",
    "    (\"<s>\", tokenizer.token_to_id(\"<s>\")),\n",
    ")\n",
    "tokenizer.enable_truncation(max_length=512)\n",
    "\n",
    "encoding = tokenizer.encode(code_sample)\n",
    "print(encoding)\n",
    "print(encoding.tokens)"
   ]
  },
  {
   "cell_type": "code",
   "execution_count": null,
   "metadata": {},
   "outputs": [],
   "source": [
    "from transformers import pipeline\n",
    "\n",
    "fill_mask = pipeline(\n",
    "    \"fill-mask\",\n",
    "    model=\n",
    ")"
   ]
  }
 ],
 "metadata": {
  "kernelspec": {
   "display_name": ".venv",
   "language": "python",
   "name": "python3"
  },
  "language_info": {
   "codemirror_mode": {
    "name": "ipython",
    "version": 3
   },
   "file_extension": ".py",
   "mimetype": "text/x-python",
   "name": "python",
   "nbconvert_exporter": "python",
   "pygments_lexer": "ipython3",
   "version": "3.11.6"
  }
 },
 "nbformat": 4,
 "nbformat_minor": 2
}
