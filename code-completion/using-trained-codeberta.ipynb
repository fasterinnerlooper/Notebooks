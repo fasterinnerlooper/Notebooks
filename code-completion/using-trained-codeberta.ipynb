{
 "cells": [
  {
   "cell_type": "code",
   "execution_count": 39,
   "metadata": {},
   "outputs": [
    {
     "name": "stdout",
     "output_type": "stream",
     "text": [
      "Note: you may need to restart the kernel to use updated packages.\n"
     ]
    }
   ],
   "source": [
    "%pip install transformers -q"
   ]
  },
  {
   "cell_type": "code",
   "execution_count": 41,
   "metadata": {},
   "outputs": [
    {
     "data": {
      "application/vnd.jupyter.widget-view+json": {
       "model_id": "be55fc538b19483d95a7999abf238a97",
       "version_major": 2,
       "version_minor": 0
      },
      "text/plain": [
       "VBox(children=(HTML(value='<center> <img\\nsrc=https://huggingface.co/front/assets/huggingface_logo-noborder.sv…"
      ]
     },
     "metadata": {},
     "output_type": "display_data"
    }
   ],
   "source": [
    "from huggingface_hub import notebook_login\n",
    "\n",
    "notebook_login()"
   ]
  },
  {
   "cell_type": "code",
   "execution_count": 42,
   "metadata": {},
   "outputs": [],
   "source": [
    "# Load model directly\n",
    "from transformers import AutoTokenizer, AutoModelForMaskedLM\n",
    "\n",
    "tokenizer = AutoTokenizer.from_pretrained(\"huggingface/CodeBERTa-small-v1\")\n",
    "model = AutoModelForMaskedLM.from_pretrained(\"fasterinnerlooper/codeBERTa-csharp\")"
   ]
  },
  {
   "cell_type": "code",
   "execution_count": 59,
   "metadata": {},
   "outputs": [],
   "source": [
    "text = \"\"\"\n",
    "//\n",
    "// Author:\n",
    "//   Jb Evain (jbevain@gmail.com)\n",
    "//\n",
    "// Copyright (c) 2008 - 2015 Jb Evain\n",
    "// Copyright (c) 2008 - 2011 Novell, Inc.\n",
    "//\n",
    "// Licensed under the MIT/X11 license.\n",
    "//\n",
    "\n",
    "namespace Mono.Cecil.Cil {\n",
    "\n",
    "\tpublic enum ExceptionHandlerType {\n",
    "\t\tCatch = 0,\n",
    "\t\tFilter = 1,\n",
    "\t\tFinally = 2,\n",
    "\t\tFault = 4,\n",
    "\t}\n",
    "\n",
    "\tpublic sealed class ExceptionHandler {\n",
    "\n",
    "\t\tInstruction try_start;\n",
    "\t\tInstruction try_end;\n",
    "\t\tInstruction filter_start;\n",
    "\t\tInstruction handler_start;\n",
    "\t\tInstruction handler_end;\n",
    "\n",
    "\t\tTypeReference catch_type;\n",
    "\t\tExceptionHandlerType handler_type;\n",
    "\n",
    "\t\tpublic Instruction TryStart {\n",
    "\t\t\tget { return try_start; }\n",
    "\t\t\tset { try_start = value; }\n",
    "\t\t}\n",
    "\n",
    "\t\tpublic Instruction TryEnd {\n",
    "\t\t\tget { return try_end; }\n",
    "\t\t\tset { try_end = value; }\n",
    "\t\t}\n",
    "\n",
    "\t\tpublic Instruction FilterStart {\n",
    "\t\t\tget { return filter_start; }\n",
    "\t\t\tset { filter_start = value; }\n",
    "\t\t}\n",
    "\n",
    "\t\tpublic Instruction HandlerStart {\n",
    "\t\t\tget { return handler_start; }\n",
    "\t\t\tset { handler_start = value; }\n",
    "\t\t}\n",
    "\n",
    "\t\tpublic Instruction HandlerEnd {\n",
    "\t\t\tget { return handler_end; }\n",
    "\t\t\tset { handler_end = value; }\n",
    "\t\t}\n",
    "\n",
    "\t\tpublic TypeReference CatchType {\n",
    "\t\t\tget { return catch_type; }\n",
    "\t\t\tset { catch_type = value; }\n",
    "\t\t}\n",
    "\n",
    "\t\tpublic ExceptionHandlerType HandlerType {\n",
    "\t\t\tget { return handler_type; }\n",
    "\t\t\tset { handler_type = value; }\n",
    "\t\t}\n",
    "\n",
    "\t\tpublic ExceptionHandler (ExceptionHandlerType handlerType)\n",
    "\t\t{\n",
    "\t\t\tthis.<mask> = handlerType\n",
    "\t\t}\n",
    "\t}\n",
    "}\"\"\""
   ]
  },
  {
   "cell_type": "code",
   "execution_count": 64,
   "metadata": {},
   "outputs": [
    {
     "name": "stdout",
     "output_type": "stream",
     "text": [
      "score: 0.18, token: handler\n",
      "score: 0.10, token: ErrorHandler\n",
      "score: 0.05, token: ExceptionHandler\n",
      "score: 0.04, token: MessageHandler\n",
      "score: 0.04, token:  handler\n"
     ]
    }
   ],
   "source": [
    "# Use a pipeline as a high-level helper\n",
    "from transformers import pipeline\n",
    "\n",
    "# pipe = pipeline(\"fill-mask\", model=model, tokenizer=tokenizer)\n",
    "tokenizer_kwargs = {\"truncation\": True, \"padding\": True}\n",
    "# pipe = pipeline(model=\"bert-base-uncased\")\n",
    "pipe = pipeline(task=\"fill-mask\", model=model, tokenizer=tokenizer)\n",
    "masks = pipe(text, tokenizer_kwargs=tokenizer_kwargs)\n",
    "# for outermask in masks:\n",
    "for mask in masks:\n",
    "    print(f\"score: {mask['score']:.2f}, token: {mask['token_str']}\")\n",
    "#         # print(f\"{mask['score']}\")"
   ]
  }
 ],
 "metadata": {
  "kernelspec": {
   "display_name": ".venv",
   "language": "python",
   "name": "python3"
  },
  "language_info": {
   "codemirror_mode": {
    "name": "ipython",
    "version": 3
   },
   "file_extension": ".py",
   "mimetype": "text/x-python",
   "name": "python",
   "nbconvert_exporter": "python",
   "pygments_lexer": "ipython3",
   "version": "3.11.6"
  }
 },
 "nbformat": 4,
 "nbformat_minor": 2
}
