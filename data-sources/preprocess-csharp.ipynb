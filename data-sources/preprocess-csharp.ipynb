{
 "cells": [
  {
   "cell_type": "code",
   "execution_count": 1,
   "id": "6f69c00c-c90f-448b-82f7-67838bec607e",
   "metadata": {
    "execution": {
     "iopub.execute_input": "2024-01-02T03:22:25.598351Z",
     "iopub.status.busy": "2024-01-02T03:22:25.597863Z",
     "iopub.status.idle": "2024-01-02T03:22:36.172198Z",
     "shell.execute_reply": "2024-01-02T03:22:36.170749Z",
     "shell.execute_reply.started": "2024-01-02T03:22:25.598319Z"
    }
   },
   "outputs": [
    {
     "name": "stdout",
     "output_type": "stream",
     "text": [
      "\u001b[33mWARNING: Running pip as the 'root' user can result in broken permissions and conflicting behaviour with the system package manager. It is recommended to use a virtual environment instead: https://pip.pypa.io/warnings/venv\u001b[0m\u001b[33m\n",
      "\u001b[0mNote: you may need to restart the kernel to use updated packages.\n"
     ]
    }
   ],
   "source": [
    "%pip install -qU datasets numpy>=1.18.5 transformers python-dotenv"
   ]
  },
  {
   "cell_type": "code",
   "execution_count": 2,
   "id": "e1885da8",
   "metadata": {},
   "outputs": [],
   "source": [
    "%reload_ext dotenv\n",
    "%dotenv"
   ]
  },
  {
   "cell_type": "code",
   "execution_count": 3,
   "id": "800b02e9-8013-424d-9af3-e1aac488298a",
   "metadata": {
    "execution": {
     "iopub.execute_input": "2024-01-02T03:23:31.042321Z",
     "iopub.status.busy": "2024-01-02T03:23:31.041243Z",
     "iopub.status.idle": "2024-01-02T03:23:33.176608Z",
     "shell.execute_reply": "2024-01-02T03:23:33.175231Z",
     "shell.execute_reply.started": "2024-01-02T03:23:31.042289Z"
    }
   },
   "outputs": [
    {
     "data": {
      "application/vnd.jupyter.widget-view+json": {
       "model_id": "50acd0314dc946a9a6d1053d3524e3f5",
       "version_major": 2,
       "version_minor": 0
      },
      "text/plain": [
       "Downloading readme:   0%|          | 0.00/530 [00:00<?, ?B/s]"
      ]
     },
     "metadata": {},
     "output_type": "display_data"
    },
    {
     "name": "stderr",
     "output_type": "stream",
     "text": [
      "/usr/local/lib/python3.9/dist-packages/scipy/__init__.py:155: UserWarning: A NumPy version >=1.18.5 and <1.26.0 is required for this version of SciPy (detected version 1.26.3\n",
      "  warnings.warn(f\"A NumPy version >={np_minversion} and <{np_maxversion}\"\n"
     ]
    },
    {
     "data": {
      "application/vnd.jupyter.widget-view+json": {
       "model_id": "ace1e57c9a2441b79c675190888e0053",
       "version_major": 2,
       "version_minor": 0
      },
      "text/plain": [
       "Downloading data:   0%|          | 0.00/125M [00:00<?, ?B/s]"
      ]
     },
     "metadata": {},
     "output_type": "display_data"
    },
    {
     "data": {
      "application/vnd.jupyter.widget-view+json": {
       "model_id": "a8b921f5a895463eb47c0c87f52cf9ae",
       "version_major": 2,
       "version_minor": 0
      },
      "text/plain": [
       "Downloading data:   0%|          | 0.00/124M [00:00<?, ?B/s]"
      ]
     },
     "metadata": {},
     "output_type": "display_data"
    },
    {
     "data": {
      "application/vnd.jupyter.widget-view+json": {
       "model_id": "6b5a8fb5ba8440adb250162017a554f3",
       "version_major": 2,
       "version_minor": 0
      },
      "text/plain": [
       "Downloading data:   0%|          | 0.00/125M [00:00<?, ?B/s]"
      ]
     },
     "metadata": {},
     "output_type": "display_data"
    },
    {
     "data": {
      "application/vnd.jupyter.widget-view+json": {
       "model_id": "4a6c4cc686ce4cfdb4a77c6b078f2916",
       "version_major": 2,
       "version_minor": 0
      },
      "text/plain": [
       "Downloading data:   0%|          | 0.00/125M [00:00<?, ?B/s]"
      ]
     },
     "metadata": {},
     "output_type": "display_data"
    },
    {
     "data": {
      "application/vnd.jupyter.widget-view+json": {
       "model_id": "3d45a2dd13ba400e9ac7717ede186216",
       "version_major": 2,
       "version_minor": 0
      },
      "text/plain": [
       "Downloading data:   0%|          | 0.00/41.5M [00:00<?, ?B/s]"
      ]
     },
     "metadata": {},
     "output_type": "display_data"
    },
    {
     "data": {
      "application/vnd.jupyter.widget-view+json": {
       "model_id": "bf83c674ad984ff583bac999178fbb51",
       "version_major": 2,
       "version_minor": 0
      },
      "text/plain": [
       "Downloading data:   0%|          | 0.00/41.5M [00:00<?, ?B/s]"
      ]
     },
     "metadata": {},
     "output_type": "display_data"
    },
    {
     "data": {
      "application/vnd.jupyter.widget-view+json": {
       "model_id": "98bb65d7d2984d108814050babe2e4b2",
       "version_major": 2,
       "version_minor": 0
      },
      "text/plain": [
       "Generating train split:   0%|          | 0/100000 [00:00<?, ? examples/s]"
      ]
     },
     "metadata": {},
     "output_type": "display_data"
    },
    {
     "data": {
      "application/vnd.jupyter.widget-view+json": {
       "model_id": "6fa7b7128fa04cd89d24005a1af4a9bc",
       "version_major": 2,
       "version_minor": 0
      },
      "text/plain": [
       "Generating validation split:   0%|          | 0/10000 [00:00<?, ? examples/s]"
      ]
     },
     "metadata": {},
     "output_type": "display_data"
    },
    {
     "data": {
      "application/vnd.jupyter.widget-view+json": {
       "model_id": "af923c7555d14e8184f777b3f40526dc",
       "version_major": 2,
       "version_minor": 0
      },
      "text/plain": [
       "Generating test split:   0%|          | 0/10000 [00:00<?, ? examples/s]"
      ]
     },
     "metadata": {},
     "output_type": "display_data"
    }
   ],
   "source": [
    "from datasets import load_dataset\n",
    "\n",
    "dataset = load_dataset('microsoft/lcc_csharp')"
   ]
  },
  {
   "cell_type": "code",
   "execution_count": 4,
   "id": "ee74e8db-9108-480e-9558-bf6728af006b",
   "metadata": {
    "execution": {
     "iopub.execute_input": "2024-01-02T03:23:37.334448Z",
     "iopub.status.busy": "2024-01-02T03:23:37.333976Z",
     "iopub.status.idle": "2024-01-02T03:23:37.342840Z",
     "shell.execute_reply": "2024-01-02T03:23:37.341284Z",
     "shell.execute_reply.started": "2024-01-02T03:23:37.334418Z"
    }
   },
   "outputs": [
    {
     "data": {
      "text/plain": [
       "{'context': Value(dtype='string', id=None),\n",
       " 'gt': Value(dtype='string', id=None)}"
      ]
     },
     "execution_count": 4,
     "metadata": {},
     "output_type": "execute_result"
    }
   ],
   "source": [
    "dataset['train'].features"
   ]
  },
  {
   "cell_type": "code",
   "execution_count": 11,
   "id": "d88b899a-3a32-4928-9e53-6170017ea7c8",
   "metadata": {
    "execution": {
     "iopub.execute_input": "2024-01-02T03:23:37.345728Z",
     "iopub.status.busy": "2024-01-02T03:23:37.345192Z",
     "iopub.status.idle": "2024-01-02T03:25:30.426816Z",
     "shell.execute_reply": "2024-01-02T03:25:30.425401Z",
     "shell.execute_reply.started": "2024-01-02T03:23:37.345696Z"
    }
   },
   "outputs": [
    {
     "data": {
      "application/vnd.jupyter.widget-view+json": {
       "model_id": "35e60203ef99456386c44c00c0010b9f",
       "version_major": 2,
       "version_minor": 0
      },
      "text/plain": [
       "Map:   0%|          | 0/100000 [00:00<?, ? examples/s]"
      ]
     },
     "metadata": {},
     "output_type": "display_data"
    }
   ],
   "source": [
    "import numpy as np\n",
    "\n",
    "def split_string(source):\n",
    "    source = source['context']\n",
    "    numbers = np.random.default_rng().integers(0, (len(source)/3)+1, size=2)\n",
    "    splititer = iter(source)\n",
    "    split = [\"\".join(next(splititer) for idx in range(size)) for size in numbers]\n",
    "    prefix = split[0]\n",
    "    suffix = source[numbers[0]+numbers[1]:]\n",
    "    middle = split[1]\n",
    "    return({'prefix':prefix,'suffix':suffix,'prediction':middle})\n",
    "    # context = tokenizer.bos_token + tokenizer.prefix_token + split[0] + tokenizer.suffix_token + source[numbers[0]+numbers[1]:] + tokenizer.middle_token + split[1] + tokenizer.eos_token\n",
    "    # return {'context':context}\n",
    "    \n",
    "infill_dataset = dataset['train'].map(split_string, remove_columns=dataset['train'].column_names)"
   ]
  },
  {
   "cell_type": "code",
   "execution_count": 12,
   "id": "3932e99a-5450-4232-bd70-01909f6bd219",
   "metadata": {
    "execution": {
     "iopub.execute_input": "2024-01-02T03:25:30.429124Z",
     "iopub.status.busy": "2024-01-02T03:25:30.428671Z",
     "iopub.status.idle": "2024-01-02T03:25:56.218136Z",
     "shell.execute_reply": "2024-01-02T03:25:56.216976Z",
     "shell.execute_reply.started": "2024-01-02T03:25:30.429094Z"
    }
   },
   "outputs": [
    {
     "data": {
      "application/vnd.jupyter.widget-view+json": {
       "model_id": "faa89528bca84a3eb7976edf54603c22",
       "version_major": 2,
       "version_minor": 0
      },
      "text/plain": [
       "VBox(children=(HTML(value='<center> <img\\nsrc=https://huggingface.co/front/assets/huggingface_logo-noborder.sv…"
      ]
     },
     "metadata": {},
     "output_type": "display_data"
    },
    {
     "data": {
      "application/vnd.jupyter.widget-view+json": {
       "model_id": "51de80346dc74a27904a16f8787ab386",
       "version_major": 2,
       "version_minor": 0
      },
      "text/plain": [
       "Uploading the dataset shards:   0%|          | 0/4 [00:00<?, ?it/s]"
      ]
     },
     "metadata": {},
     "output_type": "display_data"
    },
    {
     "data": {
      "application/vnd.jupyter.widget-view+json": {
       "model_id": "6c18ebb171b4464bb0414ce70a2a81d5",
       "version_major": 2,
       "version_minor": 0
      },
      "text/plain": [
       "Creating parquet from Arrow format:   0%|          | 0/25 [00:00<?, ?ba/s]"
      ]
     },
     "metadata": {},
     "output_type": "display_data"
    },
    {
     "data": {
      "application/vnd.jupyter.widget-view+json": {
       "model_id": "912108474e4c4777acde5f82fd4e137f",
       "version_major": 2,
       "version_minor": 0
      },
      "text/plain": [
       "Creating parquet from Arrow format:   0%|          | 0/25 [00:00<?, ?ba/s]"
      ]
     },
     "metadata": {},
     "output_type": "display_data"
    },
    {
     "data": {
      "application/vnd.jupyter.widget-view+json": {
       "model_id": "73fd2409f4fa4408902655a0669ab28e",
       "version_major": 2,
       "version_minor": 0
      },
      "text/plain": [
       "Creating parquet from Arrow format:   0%|          | 0/25 [00:00<?, ?ba/s]"
      ]
     },
     "metadata": {},
     "output_type": "display_data"
    },
    {
     "data": {
      "application/vnd.jupyter.widget-view+json": {
       "model_id": "508a80d9ab7649a2bdae7e778acf4677",
       "version_major": 2,
       "version_minor": 0
      },
      "text/plain": [
       "Creating parquet from Arrow format:   0%|          | 0/25 [00:00<?, ?ba/s]"
      ]
     },
     "metadata": {},
     "output_type": "display_data"
    },
    {
     "data": {
      "application/vnd.jupyter.widget-view+json": {
       "model_id": "aadaf0093e214ec9be6aea4230cf92bd",
       "version_major": 2,
       "version_minor": 0
      },
      "text/plain": [
       "README.md:   0%|          | 0.00/921 [00:00<?, ?B/s]"
      ]
     },
     "metadata": {},
     "output_type": "display_data"
    },
    {
     "data": {
      "text/plain": [
       "CommitInfo(commit_url='https://huggingface.co/datasets/fasterinnerlooper/lcc_csharp/commit/e41de23cf91606016d96876a4a594991f36be251', commit_message='Upload dataset', commit_description='', oid='e41de23cf91606016d96876a4a594991f36be251', pr_url=None, pr_revision=None, pr_num=None)"
      ]
     },
     "execution_count": 12,
     "metadata": {},
     "output_type": "execute_result"
    }
   ],
   "source": [
    "from huggingface_hub import login\n",
    "\n",
    "login()\n",
    "\n",
    "infill_dataset.push_to_hub('fasterinnerlooper/lcc_csharp')"
   ]
  }
 ],
 "metadata": {
  "kernelspec": {
   "display_name": "Python 3 (ipykernel)",
   "language": "python",
   "name": "python3"
  },
  "language_info": {
   "codemirror_mode": {
    "name": "ipython",
    "version": 3
   },
   "file_extension": ".py",
   "mimetype": "text/x-python",
   "name": "python",
   "nbconvert_exporter": "python",
   "pygments_lexer": "ipython3",
   "version": "3.9.16"
  }
 },
 "nbformat": 4,
 "nbformat_minor": 5
}
