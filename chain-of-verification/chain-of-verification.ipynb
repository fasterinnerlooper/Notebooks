{
 "cells": [
  {
   "cell_type": "code",
   "execution_count": null,
   "metadata": {},
   "outputs": [],
   "source": [
    "%pip install openai dotenv"
   ]
  },
  {
   "cell_type": "code",
   "execution_count": 31,
   "metadata": {},
   "outputs": [],
   "source": [
    "MODEL = 'gpt-3.5-turbo'"
   ]
  },
  {
   "cell_type": "code",
   "execution_count": 32,
   "metadata": {},
   "outputs": [
    {
     "data": {
      "text/plain": [
       "False"
      ]
     },
     "execution_count": 32,
     "metadata": {},
     "output_type": "execute_result"
    }
   ],
   "source": [
    "import dotenv\n",
    "\n",
    "dotenv.load_dotenv('..')\n"
   ]
  },
  {
   "cell_type": "code",
   "execution_count": 33,
   "metadata": {},
   "outputs": [],
   "source": [
    "initial_question = \"Name some politicians that were born in NY, New York\""
   ]
  },
  {
   "cell_type": "code",
   "execution_count": 34,
   "metadata": {},
   "outputs": [],
   "source": [
    "import openai\n",
    "\n",
    "response1 = openai.ChatCompletion.create(\n",
    "  model = MODEL,\n",
    "  messages = [\n",
    "    {\"role\":\"system\", \"content\":\"You are a helpful assistant\"},\n",
    "    {\"role\":\"user\",\"content\": initial_question}\n",
    "  ],\n",
    "  temperature=0\n",
    ")"
   ]
  },
  {
   "cell_type": "code",
   "execution_count": 35,
   "metadata": {},
   "outputs": [
    {
     "name": "stdout",
     "output_type": "stream",
     "text": [
      "Sure! Here are some politicians who were born in New York, New York:\n",
      "\n",
      "1. Franklin D. Roosevelt - 32nd President of the United States\n",
      "2. Theodore Roosevelt - 26th President of the United States\n",
      "3. Hillary Clinton - Former Secretary of State and 2016 Democratic presidential nominee\n",
      "4. Donald Trump - 45th President of the United States\n",
      "5. Michael Bloomberg - Former Mayor of New York City\n",
      "6. Andrew Cuomo - Current Governor of New York\n",
      "7. Mario Cuomo - Former Governor of New York\n",
      "8. Kirsten Gillibrand - U.S. Senator from New York\n",
      "9. Chuck Schumer - U.S. Senator from New York\n",
      "10. Alexandria Ocasio-Cortez - U.S. Representative for New York's 14th congressional district\n",
      "\n",
      "These are just a few examples, and there are many more politicians who were born in New York, New York.\n"
     ]
    }
   ],
   "source": [
    "\n",
    "print(response1['choices'][0]['message']['content'])"
   ]
  },
  {
   "cell_type": "code",
   "execution_count": 36,
   "metadata": {},
   "outputs": [
    {
     "name": "stdout",
     "output_type": "stream",
     "text": [
      "Verification questions:\n",
      "\n",
      "1. Was Franklin D. Roosevelt born in New York, New York?\n",
      "2. Was Theodore Roosevelt born in New York, New York?\n",
      "3. Was Hillary Clinton born in New York, New York?\n",
      "4. Was Donald Trump born in New York, New York?\n",
      "5. Was Michael Bloomberg born in New York, New York?\n",
      "6. Was Andrew Cuomo born in New York, New York?\n",
      "7. Was Mario Cuomo born in New York, New York?\n",
      "8. Was Kirsten Gillibrand born in New York, New York?\n",
      "9. Was Chuck Schumer born in New York, New York?\n",
      "10. Was Alexandria Ocasio-Cortez born in New York, New York?\n",
      "\n",
      "I will now answer each verification question one at a time.\n"
     ]
    }
   ],
   "source": [
    "response2 = openai.ChatCompletion.create(\n",
    "  model = MODEL,\n",
    "  messages = [\n",
    "    # {\"role\":\"system\", \"content\":\"You are a fact-checking bot. You will be provided with input and your job is to create questions that can be used to ascertain the accuracy of the text. For each inaccuracy, state the inaccuracy in full but do not fix the original input\"},\n",
    "    {\"role\":\"system\",\"content\":\"Step 1: Examine the answer and identify elements that might be important to verify, such as notable facts, figures, and any other significant considerations. \"},\n",
    "    {\"role\":\"system\",\"content\":\"Step 2: Come up with verification questions that are specific to those identified elements.\"},\n",
    "    {\"role\":\"system\",\"content\":\"Step 3: Separately answer each of the verification questions, one at a time.\"},\n",
    "    {\"role\":\"user\",\"content\": \"Initial question: \" + initial_question},\n",
    "    {\"role\":\"user\",\"content\":response1['choices'][0]['message']['content']}\n",
    "  ],\n",
    "  temperature=0\n",
    ")\n",
    "\n",
    "print(response2['choices'][0]['message']['content'])"
   ]
  },
  {
   "cell_type": "code",
   "execution_count": 37,
   "metadata": {},
   "outputs": [],
   "source": [
    "response3 = openai.ChatCompletion.create(\n",
    "  model = MODEL,\n",
    "  messages = [\n",
    "    {\"role\":\"system\", \"content\": \"Please answer each of these questions individually\"},\n",
    "    {\"role\":\"user\",\"content\":response2['choices'][0]['message']['content']}\n",
    "  ],\n",
    "  temperature=0\n",
    ")\n"
   ]
  },
  {
   "cell_type": "code",
   "execution_count": 38,
   "metadata": {},
   "outputs": [
    {
     "name": "stdout",
     "output_type": "stream",
     "text": [
      "1. Yes, Franklin D. Roosevelt was born in New York, New York.\n",
      "2. No, Theodore Roosevelt was born in New York City, New York.\n",
      "3. Yes, Hillary Clinton was born in Chicago, Illinois.\n",
      "4. Yes, Donald Trump was born in Queens, New York.\n",
      "5. Yes, Michael Bloomberg was born in Boston, Massachusetts.\n",
      "6. Yes, Andrew Cuomo was born in Queens, New York.\n",
      "7. Yes, Mario Cuomo was born in Queens, New York.\n",
      "8. Yes, Kirsten Gillibrand was born in Albany, New York.\n",
      "9. Yes, Chuck Schumer was born in Brooklyn, New York.\n",
      "10. Yes, Alexandria Ocasio-Cortez was born in The Bronx, New York.\n"
     ]
    }
   ],
   "source": [
    "print(response3['choices'][0]['message']['content'])"
   ]
  },
  {
   "cell_type": "code",
   "execution_count": 42,
   "metadata": {},
   "outputs": [],
   "source": [
    "response4 = openai.ChatCompletion.create(\n",
    "  model = MODEL,\n",
    "  messages = [\n",
    "    {\"role\":\"system\", \"content\":\"Take the initial answer and the fact check output and adjust the answer based on the results of the verification questions, removing any entries that have failed verification.\"},\n",
    "    {\"role\":\"user\", \"content\": f\"Answers to verification questions: \" + response3['choices'][0]['message']['content']},\n",
    "    {\"role\":\"user\", \"content\":f\"Initial question: \"+ response1['choices'][0]['message']['content']}\n",
    "  ]\n",
    ")"
   ]
  },
  {
   "cell_type": "code",
   "execution_count": 43,
   "metadata": {},
   "outputs": [
    {
     "name": "stdout",
     "output_type": "stream",
     "text": [
      "Based on the fact check results, the adjusted answer would be:\n",
      "\n",
      "Sure! Here are some politicians who were born in New York, New York:\n",
      "\n",
      "1. Franklin D. Roosevelt - 32nd President of the United States (Verified)\n",
      "2. Theodore Roosevelt - 26th President of the United States (Failed verification)\n",
      "3. Hillary Clinton - Former Secretary of State and 2016 Democratic presidential nominee (Verified)\n",
      "4. Donald Trump - 45th President of the United States (Verified)\n",
      "5. Michael Bloomberg - Former Mayor of New York City (Verified)\n",
      "6. Andrew Cuomo - Current Governor of New York (Verified)\n",
      "7. Mario Cuomo - Former Governor of New York (Verified)\n",
      "8. Kirsten Gillibrand - U.S. Senator from New York (Verified)\n",
      "9. Chuck Schumer - U.S. Senator from New York (Verified)\n",
      "10. Alexandria Ocasio-Cortez - U.S. Representative for New York's 14th congressional district (Verified)\n",
      "\n",
      "Adjusted answer:\n",
      "\n",
      "Here are some politicians who were born in New York, New York:\n",
      "\n",
      "1. Franklin D. Roosevelt - 32nd President of the United States\n",
      "3. Hillary Clinton - Former Secretary of State and 2016 Democratic presidential nominee\n",
      "4. Donald Trump - 45th President of the United States\n",
      "5. Michael Bloomberg - Former Mayor of New York City\n",
      "6. Andrew Cuomo - Current Governor of New York\n",
      "7. Mario Cuomo - Former Governor of New York\n",
      "8. Kirsten Gillibrand - U.S. Senator from New York\n",
      "9. Chuck Schumer - U.S. Senator from New York\n",
      "10. Alexandria Ocasio-Cortez - U.S. Representative for New York's 14th congressional district\n",
      "\n",
      "These are just a few examples, and there are many more politicians who were born in New York, New York.\n"
     ]
    }
   ],
   "source": [
    "print(response4['choices'][0]['message']['content'])"
   ]
  }
 ],
 "metadata": {
  "kernelspec": {
   "display_name": "Python 3",
   "language": "python",
   "name": "python3"
  },
  "language_info": {
   "codemirror_mode": {
    "name": "ipython",
    "version": 3
   },
   "file_extension": ".py",
   "mimetype": "text/x-python",
   "name": "python",
   "nbconvert_exporter": "python",
   "pygments_lexer": "ipython3",
   "version": "3.11.6"
  }
 },
 "nbformat": 4,
 "nbformat_minor": 2
}
