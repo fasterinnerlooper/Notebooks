{
 "cells": [
  {
   "cell_type": "code",
   "execution_count": 25,
   "metadata": {},
   "outputs": [
    {
     "name": "stdout",
     "output_type": "stream",
     "text": [
      "Requirement already satisfied: langchain in /Users/shafiq.jetha/.pyenv/versions/3.11.4/lib/python3.11/site-packages (0.0.309)\n",
      "Requirement already satisfied: PyYAML>=5.3 in /Users/shafiq.jetha/.pyenv/versions/3.11.4/lib/python3.11/site-packages (from langchain) (6.0.1)\n",
      "Requirement already satisfied: SQLAlchemy<3,>=1.4 in /Users/shafiq.jetha/.pyenv/versions/3.11.4/lib/python3.11/site-packages (from langchain) (2.0.21)\n",
      "Requirement already satisfied: aiohttp<4.0.0,>=3.8.3 in /Users/shafiq.jetha/.pyenv/versions/3.11.4/lib/python3.11/site-packages (from langchain) (3.8.5)\n",
      "Requirement already satisfied: anyio<4.0 in /Users/shafiq.jetha/.pyenv/versions/3.11.4/lib/python3.11/site-packages (from langchain) (3.7.1)\n",
      "Requirement already satisfied: dataclasses-json<0.7,>=0.5.7 in /Users/shafiq.jetha/.pyenv/versions/3.11.4/lib/python3.11/site-packages (from langchain) (0.6.1)\n",
      "Requirement already satisfied: jsonpatch<2.0,>=1.33 in /Users/shafiq.jetha/.pyenv/versions/3.11.4/lib/python3.11/site-packages (from langchain) (1.33)\n",
      "Requirement already satisfied: langsmith<0.1.0,>=0.0.40 in /Users/shafiq.jetha/.pyenv/versions/3.11.4/lib/python3.11/site-packages (from langchain) (0.0.43)\n",
      "Requirement already satisfied: numpy<2,>=1 in /Users/shafiq.jetha/.pyenv/versions/3.11.4/lib/python3.11/site-packages (from langchain) (1.26.0)\n",
      "Requirement already satisfied: pydantic<3,>=1 in /Users/shafiq.jetha/.pyenv/versions/3.11.4/lib/python3.11/site-packages (from langchain) (2.4.2)\n",
      "Requirement already satisfied: requests<3,>=2 in /Users/shafiq.jetha/.pyenv/versions/3.11.4/lib/python3.11/site-packages (from langchain) (2.31.0)\n",
      "Requirement already satisfied: tenacity<9.0.0,>=8.1.0 in /Users/shafiq.jetha/.pyenv/versions/3.11.4/lib/python3.11/site-packages (from langchain) (8.2.3)\n",
      "Requirement already satisfied: attrs>=17.3.0 in /Users/shafiq.jetha/.pyenv/versions/3.11.4/lib/python3.11/site-packages (from aiohttp<4.0.0,>=3.8.3->langchain) (23.1.0)\n",
      "Requirement already satisfied: charset-normalizer<4.0,>=2.0 in /Users/shafiq.jetha/.pyenv/versions/3.11.4/lib/python3.11/site-packages (from aiohttp<4.0.0,>=3.8.3->langchain) (3.2.0)\n",
      "Requirement already satisfied: multidict<7.0,>=4.5 in /Users/shafiq.jetha/.pyenv/versions/3.11.4/lib/python3.11/site-packages (from aiohttp<4.0.0,>=3.8.3->langchain) (6.0.4)\n",
      "Requirement already satisfied: async-timeout<5.0,>=4.0.0a3 in /Users/shafiq.jetha/.pyenv/versions/3.11.4/lib/python3.11/site-packages (from aiohttp<4.0.0,>=3.8.3->langchain) (4.0.3)\n",
      "Requirement already satisfied: yarl<2.0,>=1.0 in /Users/shafiq.jetha/.pyenv/versions/3.11.4/lib/python3.11/site-packages (from aiohttp<4.0.0,>=3.8.3->langchain) (1.9.2)\n",
      "Requirement already satisfied: frozenlist>=1.1.1 in /Users/shafiq.jetha/.pyenv/versions/3.11.4/lib/python3.11/site-packages (from aiohttp<4.0.0,>=3.8.3->langchain) (1.4.0)\n",
      "Requirement already satisfied: aiosignal>=1.1.2 in /Users/shafiq.jetha/.pyenv/versions/3.11.4/lib/python3.11/site-packages (from aiohttp<4.0.0,>=3.8.3->langchain) (1.3.1)\n",
      "Requirement already satisfied: idna>=2.8 in /Users/shafiq.jetha/.pyenv/versions/3.11.4/lib/python3.11/site-packages (from anyio<4.0->langchain) (3.4)\n",
      "Requirement already satisfied: sniffio>=1.1 in /Users/shafiq.jetha/.pyenv/versions/3.11.4/lib/python3.11/site-packages (from anyio<4.0->langchain) (1.3.0)\n",
      "Requirement already satisfied: marshmallow<4.0.0,>=3.18.0 in /Users/shafiq.jetha/.pyenv/versions/3.11.4/lib/python3.11/site-packages (from dataclasses-json<0.7,>=0.5.7->langchain) (3.20.1)\n",
      "Requirement already satisfied: typing-inspect<1,>=0.4.0 in /Users/shafiq.jetha/.pyenv/versions/3.11.4/lib/python3.11/site-packages (from dataclasses-json<0.7,>=0.5.7->langchain) (0.9.0)\n",
      "Requirement already satisfied: jsonpointer>=1.9 in /Users/shafiq.jetha/.pyenv/versions/3.11.4/lib/python3.11/site-packages (from jsonpatch<2.0,>=1.33->langchain) (2.4)\n",
      "Requirement already satisfied: annotated-types>=0.4.0 in /Users/shafiq.jetha/.pyenv/versions/3.11.4/lib/python3.11/site-packages (from pydantic<3,>=1->langchain) (0.5.0)\n",
      "Requirement already satisfied: pydantic-core==2.10.1 in /Users/shafiq.jetha/.pyenv/versions/3.11.4/lib/python3.11/site-packages (from pydantic<3,>=1->langchain) (2.10.1)\n",
      "Requirement already satisfied: typing-extensions>=4.6.1 in /Users/shafiq.jetha/.pyenv/versions/3.11.4/lib/python3.11/site-packages (from pydantic<3,>=1->langchain) (4.8.0)\n",
      "Requirement already satisfied: urllib3<3,>=1.21.1 in /Users/shafiq.jetha/.pyenv/versions/3.11.4/lib/python3.11/site-packages (from requests<3,>=2->langchain) (1.26.16)\n",
      "Requirement already satisfied: certifi>=2017.4.17 in /Users/shafiq.jetha/.pyenv/versions/3.11.4/lib/python3.11/site-packages (from requests<3,>=2->langchain) (2023.7.22)\n",
      "Requirement already satisfied: packaging>=17.0 in /Users/shafiq.jetha/.pyenv/versions/3.11.4/lib/python3.11/site-packages (from marshmallow<4.0.0,>=3.18.0->dataclasses-json<0.7,>=0.5.7->langchain) (23.2)\n",
      "Requirement already satisfied: mypy-extensions>=0.3.0 in /Users/shafiq.jetha/.pyenv/versions/3.11.4/lib/python3.11/site-packages (from typing-inspect<1,>=0.4.0->dataclasses-json<0.7,>=0.5.7->langchain) (1.0.0)\n",
      "\n",
      "\u001b[1m[\u001b[0m\u001b[34;49mnotice\u001b[0m\u001b[1;39;49m]\u001b[0m\u001b[39;49m A new release of pip is available: \u001b[0m\u001b[31;49m23.2.1\u001b[0m\u001b[39;49m -> \u001b[0m\u001b[32;49m23.3\u001b[0m\n",
      "\u001b[1m[\u001b[0m\u001b[34;49mnotice\u001b[0m\u001b[1;39;49m]\u001b[0m\u001b[39;49m To update, run: \u001b[0m\u001b[32;49mpip install --upgrade pip\u001b[0m\n",
      "Note: you may need to restart the kernel to use updated packages.\n"
     ]
    }
   ],
   "source": [
    "%pip install langchain"
   ]
  },
  {
   "cell_type": "code",
   "execution_count": 26,
   "metadata": {},
   "outputs": [],
   "source": [
    "MODEL = \"llama2\""
   ]
  },
  {
   "cell_type": "code",
   "execution_count": 27,
   "metadata": {},
   "outputs": [
    {
     "data": {
      "text/plain": [
       "False"
      ]
     },
     "execution_count": 27,
     "metadata": {},
     "output_type": "execute_result"
    }
   ],
   "source": [
    "import dotenv\n",
    "\n",
    "dotenv.load_dotenv(\"..\")"
   ]
  },
  {
   "cell_type": "code",
   "execution_count": 28,
   "metadata": {},
   "outputs": [],
   "source": [
    "initial_question = \"Name some politicians that were born in NY, New York\""
   ]
  },
  {
   "cell_type": "code",
   "execution_count": 29,
   "metadata": {},
   "outputs": [],
   "source": [
    "from langchain.chat_models import ChatOllama\n",
    "from langchain.schema import SystemMessage, HumanMessage\n",
    "\n",
    "# chat_model = ChatOllama(model=MODEL, temperature=0)\n",
    "\n",
    "response1 = ChatOllama(model=MODEL, temperature=0)(\n",
    "    messages=[\n",
    "        SystemMessage(content=\"You are a helpful assistant\"),\n",
    "        HumanMessage(content=initial_question),\n",
    "    ]\n",
    ")"
   ]
  },
  {
   "cell_type": "code",
   "execution_count": 30,
   "metadata": {},
   "outputs": [
    {
     "name": "stdout",
     "output_type": "stream",
     "text": [
      " Sure! Here are some notable politicians who were born in New York, New York:\n",
      "\n",
      "1. Donald Trump - 45th President of the United States, born in Jamaica Hospital in Queens.\n",
      "2. Hillary Clinton - Former First Lady, Senator, and Secretary of State, born in Chicago but raised in Chappaqua, New York.\n",
      "3. Andrew Cuomo - Current Governor of New York, born in Queens.\n",
      "4. Michael Bloomberg - Former Mayor of New York City, born in Boston but raised in New York.\n",
      "5. Chuck Schumer - Senior United States Senator from New York, born in Brooklyn.\n",
      "6. Kirsten Gillibrand - Junior United States Senator from New York, born in Albany.\n",
      "7. Eliot Spitzer - Former Governor of New York, born in Manchester, New Hampshire but raised in Scarsdale, New York.\n",
      "8. Chris Murphy - United States Senator from Connecticut, born in Syracuse, New York.\n",
      "9. Nydia Velázquez - United States Representative for New York's 7th congressional district, born in Yonkers, New York.\n",
      "10. Hakeem Jeffries - United States Representative for New York's 8th congressional district, born in Brooklyn.\n",
      "\n",
      "These are just a few examples of politicians who were born in New York, but there are many others who have made significant contributions to politics and government at the local, state, and federal levels.\n"
     ]
    }
   ],
   "source": [
    "print(response1.content)"
   ]
  },
  {
   "cell_type": "code",
   "execution_count": 31,
   "metadata": {},
   "outputs": [
    {
     "name": "stdout",
     "output_type": "stream",
     "text": [
      " Great! Here are some verification questions that you could ask to further verify the information provided:\n",
      "\n",
      "1. Can you provide more details about Donald Trump's birthplace in Jamaica Hospital? For example, what year was he born, and how did his parents meet?\n",
      "2. How did Hillary Clinton spend her childhood in Chappaqua, New York? What are some notable memories or experiences from that time?\n",
      "3. Can you provide more information about Andrew Cuomo's early life in Queens? For example, where did he grow up, and what were his parents' occupations?\n",
      "4. How did Michael Bloomberg become involved in politics? Can you describe the events or experiences that led him to run for office?\n",
      "5. What are some of Chuck Schumer's most notable achievements as a senator? Can you provide specific examples of how he has represented New York in the federal government?\n",
      "6. How did Kirsten Gillibrand become involved in politics? Can you describe the events or experiences that led her to run for office?\n",
      "7. What were some of Eliot Spitzer's accomplishments as governor of New York? Can you provide specific examples of how he improved the state's government and economy?\n",
      "8. How did Chris Murphy become involved in politics? Can you describe the events or experiences that led him to run for office?\n",
      "9. What are some of Nydia Velázquez's most notable achievements as a representative? Can you provide specific examples of how she has represented New York's 7th congressional district in the federal government?\n",
      "10. How did Hakeem Jeffries become involved in politics? Can you describe the events or experiences that led him to run for office?\n",
      "\n",
      "By asking these verification questions, you can further confirm the accuracy of the information provided and gain a deeper understanding of the politicians' backgrounds and achievements.\n"
     ]
    }
   ],
   "source": [
    "response2 = ChatOllama(model=MODEL, temperature=0)(\n",
    "    messages=[\n",
    "        SystemMessage(\n",
    "            content=\"Step 1: Examine the answer and identify elements that might be important to verify, such as notable facts, figures, and any other significant considerations. \"\n",
    "        ),\n",
    "        SystemMessage(\n",
    "            content=\"Step 2: Come up with verification questions that are specific to those identified elements.\"\n",
    "        ),\n",
    "        SystemMessage(\n",
    "            content=\"Step 3: Separately answer each of the verification questions, one at a time.\"\n",
    "        ),\n",
    "        HumanMessage(content=\"Initial question: \" + initial_question),\n",
    "        HumanMessage(content=response1.content),\n",
    "    ],\n",
    ")\n",
    "\n",
    "print(response2.content)"
   ]
  },
  {
   "cell_type": "code",
   "execution_count": 32,
   "metadata": {},
   "outputs": [],
   "source": [
    "response3 = ChatOllama(model=MODEL, temperature=0)(\n",
    "    messages=[\n",
    "        SystemMessage(content=\"Please answer each of these questions individually\"),\n",
    "        SystemMessage(content=response2.content),\n",
    "    ],\n",
    ")"
   ]
  },
  {
   "cell_type": "code",
   "execution_count": 33,
   "metadata": {},
   "outputs": [
    {
     "name": "stdout",
     "output_type": "stream",
     "text": [
      " Of course! I'd be happy to answer each of these questions individually. Here are my responses:\n",
      "\n",
      "1. Can you provide more details about Donald Trump's birthplace in Jamaica Hospital? For example, what year was he born, and how did his parents meet?\n",
      "\n",
      "Donald Trump was born on June 14, 1946, at the Jamaica Hospital Medical Center in Queens, New York. His parents, Mary Anne MacLeod and Fred Trump, met in Scotland, where Mary Anne was visiting her parents. Fred Trump was a successful real estate developer, and he married Mary Anne in 1936. Donald Trump has often spoken about his birthplace and how it influenced his love for real estate and business.\n",
      "\n",
      "2. How did Hillary Clinton spend her childhood in Chappaqua, New York? What are some notable memories or experiences from that time?\n",
      "\n",
      "Hillary Clinton was born on October 26, 1947, in Chicago, Illinois, but she grew up in Chappaqua, New York, where her family moved when she was a young child. She spent much of her childhood in Chappaqua, attending the local schools and participating in extracurricular activities such as the Girl Scouts and the school choir. Hillary has often spoken about how her upbringing in Chappaqua shaped her values and interests, particularly her love for public service and helping others.\n",
      "\n",
      "3. Can you provide more information about Andrew Cuomo's early life in Queens? For example, where did he grow up, and what were his parents' occupations?\n",
      "\n",
      "Andrew Cuomo was born on December 6, 1957, in Queens, New York. He grew up in the Queens neighborhood of Flushing, where his family lived in a modest house. His father, Alfred Cuomo, was a lawyer and businessman, while his mother, Matilda Rizzuto, was a homemaker. Andrew has often spoken about how his parents' hard work and dedication to their community influenced his own values and ambitions.\n",
      "\n",
      "4. How did Michael Bloomberg become involved in politics? Can you describe the events or experiences that led him to run for office?\n",
      "\n",
      "Michael Bloomberg was born on February 14, 1942, in Boston, Massachusetts. He grew up in Medford, Massachusetts, and graduated from Johns Hopkins University with a degree in engineering. After working in finance for several years, Bloomberg founded his own company, Bloomberg LP, which became a successful financial data and media company. In 1993, Bloomberg ran for mayor of New York City as a Republican, and he won the election. He served three terms as mayor before deciding not to run for re-election in 2001.\n",
      "\n",
      "5. What are some of Chuck Schumer's most notable achievements as a senator? Can you provide specific examples of how he has represented New York in the federal government?\n",
      "\n",
      "Chuck Schumer was born on November 23, 1947, in Brooklyn, New York. He grew up in the neighborhood of Bensonhurst and graduated from Antioch College with a degree in political science. Schumer was first elected to the U.S. Senate in 1998, where he has served ever since. Some of his notable achievements include:\n",
      "\n",
      "* Passing legislation to help small businesses access capital through the Small Business Jobs Act of 2010\n",
      "* Securing federal funding for infrastructure projects in New York, such as the Gateway Program and the Second Avenue Subway extension\n",
      "* Advocating for increased funding for cancer research and treatment, including the passage of the 21st Century Cures Act in 2016\n",
      "\n",
      "6. How did Kirsten Gillibrand become involved in politics? Can you describe the events or experiences that led her to run for office?\n",
      "\n",
      "Kirsten Gillibrand was born on December 9, 1964, in Albany, New York. She grew up in the Hudson Valley region and graduated from Dartmouth College with a degree in psychology. After working as a lawyer and advocate for social justice issues, Gillibrand was appointed to the U.S. Senate in 2009 to replace Hillary Clinton, who had been appointed Secretary of State. She won the special election and has served in the Senate ever since.\n",
      "\n",
      "7. What were some of Eliot Spitzer's accomplishments as governor of New York? Can you provide specific examples of how he improved the state's government and economy?\n",
      "\n",
      "Eliot Spitzer was born on June 10, 1959, in New York City. He grew up in the Manhattan neighborhood of Upper East Side and graduated from Princeton University with a degree in politics. Spitzer was first elected as governor of New York in 2006, where he focused on reforming the state's financial regulations and improving the economy. Some of his notable accomplishments include:\n",
      "\n",
      "* Passing the Dodd-Frank Wall Street Reform and Consumer Protection Act in 2010, which aimed to prevent future financial crises by regulating banks and other financial institutions\n",
      "* Increasing funding for education and infrastructure projects throughout the state\n",
      "* Improving the state's business climate by reducing taxes and regulations for small businesses\n",
      "\n",
      "8. How did Chris Murphy become involved in politics? Can you describe the events or experiences that led him to run for office?\n",
      "\n",
      "Chris Murphy was born on February 1, 1973, in White Plains, New York. He grew up in the Connecticut town of New Milford and graduated from Wesleyan University with a degree in political science. After working as a lawyer and advocate for progressive causes, Murphy was elected to the U.S. Senate in 2012, where he has served ever since.\n",
      "\n",
      "9. What are some of Nydia Velázquez's most notable achievements as a representative? Can you provide specific examples of how she has represented New York's 7th congressional district in the federal government?\n",
      "\n",
      "Nydia Velázquez was born on August 26, 1953, in New York City. She grew up in the Brooklyn neighborhood of Bushwick and graduated from Harvard University with a degree in economics. Velázquez has served as the U.S. Representative for New York's 7th congressional district since 1993, where she has focused on issues such as immigration reform, education funding, and economic development. Some of her notable achievements include:\n",
      "\n",
      "* Securing federal funding for infrastructure projects in the district, including the reconstruction of the Brooklyn-Queens Expressway and the expansion of the John F. Kennedy International Airport\n",
      "* Advocating for immigration reform and protecting the rights of immigrant communities\n",
      "* Supporting legislation to improve access to affordable housing and healthcare for low-income families\n",
      "\n",
      "10. How did Hakeem Jeffries become involved in politics? Can you describe the events or experiences that led him to run for office?\n",
      "\n",
      "Hakeem Jeffries was born on August 4, 1970, in Brooklyn, New York. He grew up in the neighborhood of Crown Heights and graduated from the University of California, Berkeley with a degree in political science. After working as a lawyer and advocate for social justice issues, Jeffries was elected to the U.S. House of Representatives in 2012, where he has served ever since.\n",
      "\n",
      "11. What are some of José E. Serrano's most notable achievements as a representative? Can you provide specific examples of how he has represented New York's 15th congressional district in the federal government?\n",
      "\n",
      "José E. Serrano was born on September 15, 1943, in New York City. He grew up in the Bronx and graduated from Fordham University with a degree in political science. Serrano has served as the U.S. Representative for New York's 15th congressional district since 1991, where he has focused on issues such as immigration reform, education funding, and economic development. Some of his notable achievements include:\n",
      "\n",
      "* Securing federal funding for infrastructure projects in the district, including the reconstruction of the Bruckner Expressway and the expansion of the Bronx Terminal Market\n",
      "* Advocating for immigration reform and protecting the rights of immigrant communities\n",
      "* Supporting legislation to improve access to affordable housing and healthcare for low-income families\n",
      "\n",
      "12. How did Carolyn Maloney become involved in politics? Can you describe the events or experiences that led her to run for office?\n",
      "\n",
      "Carolyn Maloney was born on October 7, 1946, in New York City. She grew up in the Manhattan neighborhood of Upper East Side and graduated from Barnard College with a degree in political science. After working as a lawyer and advocate for women's rights, Maloney was elected to the U.S. House of Representatives in 1993, where she has served ever since.\n",
      "\n",
      "13. What are some of Tom Reed's most notable achievements as a representative? Can you provide specific examples of how he has represented New York's 23rd congressional district in the federal government?\n",
      "\n",
      "Tom Reed was born on February 1, 1979, in Endicott, New York. He grew up in the Southern Tier region and graduated from Cornell University with a degree in political science. Reed has served as the U.S. Representative for New York's 23rd congressional district since 2011, where he has focused on issues such as agriculture, education funding, and economic development. Some of his notable achievements include:\n",
      "\n",
      "* Securing federal funding for infrastructure projects in the district, including the reconstruction of Interstate 86 and the expansion of the Binghamton University campus\n",
      "* Advocating for policies to support small businesses and farmers in the region\n",
      "* Supporting legislation to improve access to affordable healthcare and mental health services for rural communities.\n"
     ]
    }
   ],
   "source": [
    "print(response3.content)"
   ]
  },
  {
   "cell_type": "code",
   "execution_count": 34,
   "metadata": {},
   "outputs": [],
   "source": [
    "response4 = ChatOllama(model=MODEL, temperature=0)(\n",
    "    messages=[\n",
    "        SystemMessage(\n",
    "            content=\"Take the initial answer and the fact check output and adjust the answer based on the results of the verification questions, removing any entries that have failed verification.\"\n",
    "        ),\n",
    "        HumanMessage(content=\"Answers to verification questions: \" + response3.content),\n",
    "        HumanMessage(content=\"Initial question: \" + response1.content),\n",
    "    ],\n",
    ")"
   ]
  },
  {
   "cell_type": "code",
   "execution_count": 35,
   "metadata": {},
   "outputs": [
    {
     "name": "stdout",
     "output_type": "stream",
     "text": [
      " Great! Here are some additional questions you could ask to learn more about these politicians and their achievements:\n",
      "\n",
      "1. What inspired Donald Trump to run for office, and how did he first get involved in politics?\n",
      "2. How did Hillary Clinton become interested in politics, and what were some of her early political experiences?\n",
      "3. Can you describe Andrew Cuomo's early political career, including any notable achievements or challenges he faced?\n",
      "4. What motivated Michael Bloomberg to run for mayor of New York City, and how did he approach the job?\n",
      "5. How did Chuck Schumer get involved in politics, and what were some of his early accomplishments in the Senate?\n",
      "6. Can you describe Kirsten Gillibrand's early political career, including any notable achievements or challenges she faced?\n",
      "7. What inspired Eliot Spitzer to run for governor of New York, and how did he approach the job?\n",
      "8. How did Chris Murphy get involved in politics, and what were some of his early accomplishments in the Senate?\n",
      "9. Can you describe Nydia Velázquez's early political career, including any notable achievements or challenges she faced?\n",
      "10. How did Hakeem Jeffries get involved in politics, and what were some of his early accomplishments in the House of Representatives?\n",
      "\n",
      "These questions could help you learn more about these politicians' backgrounds, motivations, and early political experiences, which could provide interesting insights into their achievements and contributions to politics.\n"
     ]
    }
   ],
   "source": [
    "print(response4.content)"
   ]
  }
 ],
 "metadata": {
  "kernelspec": {
   "display_name": "Python 3",
   "language": "python",
   "name": "python3"
  },
  "language_info": {
   "codemirror_mode": {
    "name": "ipython",
    "version": 3
   },
   "file_extension": ".py",
   "mimetype": "text/x-python",
   "name": "python",
   "nbconvert_exporter": "python",
   "pygments_lexer": "ipython3",
   "version": "3.11.4"
  }
 },
 "nbformat": 4,
 "nbformat_minor": 2
}
